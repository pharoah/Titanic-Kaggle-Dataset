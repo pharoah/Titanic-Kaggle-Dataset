{
  "nbformat": 4,
  "nbformat_minor": 0,
  "metadata": {
    "colab": {
      "name": "Titanic.ipynb",
      "version": "0.3.2",
      "provenance": [],
      "collapsed_sections": [],
      "toc_visible": true
    },
    "kernelspec": {
      "name": "python3",
      "display_name": "Python 3"
    },
    "accelerator": "GPU"
  },
  "cells": [
    {
      "cell_type": "markdown",
      "metadata": {
        "id": "4l5QZWmsIgKX",
        "colab_type": "text"
      },
      "source": [
        "#Titanic: kaggle Competition"
      ]
    },
    {
      "cell_type": "code",
      "metadata": {
        "id": "PXjbN8NuIey_",
        "colab_type": "code",
        "colab": {}
      },
      "source": [
        "import pandas as pd\n",
        "import numpy as np\n",
        "import seaborn as sns\n",
        "import math\n",
        "import matplotlib.pyplot as plt\n"
      ],
      "execution_count": 0,
      "outputs": []
    },
    {
      "cell_type": "code",
      "metadata": {
        "id": "tZuJAoEhIxMs",
        "colab_type": "code",
        "outputId": "23d7fa3b-c362-4a6f-89e5-00b7bb3022e1",
        "colab": {
          "base_uri": "https://localhost:8080/",
          "height": 258
        }
      },
      "source": [
        "titanic_train_df = pd.read_csv(\"train.csv\", delimiter=',')\n",
        "titanic_test_df = pd.read_csv(\"test.csv\", delimiter=',')\n",
        "\n",
        "\n",
        "titanic_train_df.head()\n",
        "\n"
      ],
      "execution_count": 2,
      "outputs": [
        {
          "output_type": "execute_result",
          "data": {
            "text/html": [
              "<div>\n",
              "<style scoped>\n",
              "    .dataframe tbody tr th:only-of-type {\n",
              "        vertical-align: middle;\n",
              "    }\n",
              "\n",
              "    .dataframe tbody tr th {\n",
              "        vertical-align: top;\n",
              "    }\n",
              "\n",
              "    .dataframe thead th {\n",
              "        text-align: right;\n",
              "    }\n",
              "</style>\n",
              "<table border=\"1\" class=\"dataframe\">\n",
              "  <thead>\n",
              "    <tr style=\"text-align: right;\">\n",
              "      <th></th>\n",
              "      <th>PassengerId</th>\n",
              "      <th>Survived</th>\n",
              "      <th>Pclass</th>\n",
              "      <th>Name</th>\n",
              "      <th>Sex</th>\n",
              "      <th>Age</th>\n",
              "      <th>SibSp</th>\n",
              "      <th>Parch</th>\n",
              "      <th>Ticket</th>\n",
              "      <th>Fare</th>\n",
              "      <th>Cabin</th>\n",
              "      <th>Embarked</th>\n",
              "    </tr>\n",
              "  </thead>\n",
              "  <tbody>\n",
              "    <tr>\n",
              "      <th>0</th>\n",
              "      <td>1</td>\n",
              "      <td>0</td>\n",
              "      <td>3</td>\n",
              "      <td>Braund, Mr. Owen Harris</td>\n",
              "      <td>male</td>\n",
              "      <td>22.0</td>\n",
              "      <td>1</td>\n",
              "      <td>0</td>\n",
              "      <td>A/5 21171</td>\n",
              "      <td>7.2500</td>\n",
              "      <td>NaN</td>\n",
              "      <td>S</td>\n",
              "    </tr>\n",
              "    <tr>\n",
              "      <th>1</th>\n",
              "      <td>2</td>\n",
              "      <td>1</td>\n",
              "      <td>1</td>\n",
              "      <td>Cumings, Mrs. John Bradley (Florence Briggs Th...</td>\n",
              "      <td>female</td>\n",
              "      <td>38.0</td>\n",
              "      <td>1</td>\n",
              "      <td>0</td>\n",
              "      <td>PC 17599</td>\n",
              "      <td>71.2833</td>\n",
              "      <td>C85</td>\n",
              "      <td>C</td>\n",
              "    </tr>\n",
              "    <tr>\n",
              "      <th>2</th>\n",
              "      <td>3</td>\n",
              "      <td>1</td>\n",
              "      <td>3</td>\n",
              "      <td>Heikkinen, Miss. Laina</td>\n",
              "      <td>female</td>\n",
              "      <td>26.0</td>\n",
              "      <td>0</td>\n",
              "      <td>0</td>\n",
              "      <td>STON/O2. 3101282</td>\n",
              "      <td>7.9250</td>\n",
              "      <td>NaN</td>\n",
              "      <td>S</td>\n",
              "    </tr>\n",
              "    <tr>\n",
              "      <th>3</th>\n",
              "      <td>4</td>\n",
              "      <td>1</td>\n",
              "      <td>1</td>\n",
              "      <td>Futrelle, Mrs. Jacques Heath (Lily May Peel)</td>\n",
              "      <td>female</td>\n",
              "      <td>35.0</td>\n",
              "      <td>1</td>\n",
              "      <td>0</td>\n",
              "      <td>113803</td>\n",
              "      <td>53.1000</td>\n",
              "      <td>C123</td>\n",
              "      <td>S</td>\n",
              "    </tr>\n",
              "    <tr>\n",
              "      <th>4</th>\n",
              "      <td>5</td>\n",
              "      <td>0</td>\n",
              "      <td>3</td>\n",
              "      <td>Allen, Mr. William Henry</td>\n",
              "      <td>male</td>\n",
              "      <td>35.0</td>\n",
              "      <td>0</td>\n",
              "      <td>0</td>\n",
              "      <td>373450</td>\n",
              "      <td>8.0500</td>\n",
              "      <td>NaN</td>\n",
              "      <td>S</td>\n",
              "    </tr>\n",
              "  </tbody>\n",
              "</table>\n",
              "</div>"
            ],
            "text/plain": [
              "   PassengerId  Survived  Pclass  ...     Fare Cabin  Embarked\n",
              "0            1         0       3  ...   7.2500   NaN         S\n",
              "1            2         1       1  ...  71.2833   C85         C\n",
              "2            3         1       3  ...   7.9250   NaN         S\n",
              "3            4         1       1  ...  53.1000  C123         S\n",
              "4            5         0       3  ...   8.0500   NaN         S\n",
              "\n",
              "[5 rows x 12 columns]"
            ]
          },
          "metadata": {
            "tags": []
          },
          "execution_count": 2
        }
      ]
    },
    {
      "cell_type": "code",
      "metadata": {
        "id": "f5HZPqU1KAL2",
        "colab_type": "code",
        "outputId": "0c1c5c4c-9147-41e5-a5ba-10e0a650476e",
        "colab": {
          "base_uri": "https://localhost:8080/",
          "height": 35
        }
      },
      "source": [
        "print(\"Total passengers in training set: {}\".format(len(titanic_train_df.index)))"
      ],
      "execution_count": 3,
      "outputs": [
        {
          "output_type": "stream",
          "text": [
            "Total passengers in training set: 891\n"
          ],
          "name": "stdout"
        }
      ]
    },
    {
      "cell_type": "code",
      "metadata": {
        "id": "63jD11FlKOus",
        "colab_type": "code",
        "outputId": "e4033e89-53b6-4fd9-b944-0eb582478466",
        "colab": {
          "base_uri": "https://localhost:8080/",
          "height": 301
        }
      },
      "source": [
        "sns.countplot(x=\"Pclass\", hue=\"Survived\", data = titanic_train_df)"
      ],
      "execution_count": 4,
      "outputs": [
        {
          "output_type": "execute_result",
          "data": {
            "text/plain": [
              "<matplotlib.axes._subplots.AxesSubplot at 0x7f32324d9080>"
            ]
          },
          "metadata": {
            "tags": []
          },
          "execution_count": 4
        },
        {
          "output_type": "display_data",
          "data": {
            "image/png": "[encoded data removed]",
            "text/plain": [
              "<Figure size 432x288 with 1 Axes>"
            ]
          },
          "metadata": {
            "tags": []
          }
        }
      ]
    },
    {
      "cell_type": "code",
      "metadata": {
        "id": "b6v3sQp4K_50",
        "colab_type": "code",
        "outputId": "4d5032b0-52f8-4ec1-9cc6-f4ff68f3d0b2",
        "colab": {
          "base_uri": "https://localhost:8080/",
          "height": 301
        }
      },
      "source": [
        "sns.countplot(x=\"Sex\", hue='Survived', data= titanic_train_df )"
      ],
      "execution_count": 5,
      "outputs": [
        {
          "output_type": "execute_result",
          "data": {
            "text/plain": [
              "<matplotlib.axes._subplots.AxesSubplot at 0x7f3232440be0>"
            ]
          },
          "metadata": {
            "tags": []
          },
          "execution_count": 5
        },
        {
          "output_type": "display_data",
          "data": {
            "image/png": "[encoded data removed]",
            "text/plain": [
              "<Figure size 432x288 with 1 Axes>"
            ]
          },
          "metadata": {
            "tags": []
          }
        }
      ]
    },
    {
      "cell_type": "code",
      "metadata": {
        "id": "NzAKLmHCoYF5",
        "colab_type": "code",
        "colab": {
          "base_uri": "https://localhost:8080/",
          "height": 301
        },
        "outputId": "fa880536-8e60-42e0-8225-2f35599c02ae"
      },
      "source": [
        "sns.countplot(x='Embarked', hue='Survived', data = titanic_train_df)"
      ],
      "execution_count": 6,
      "outputs": [
        {
          "output_type": "execute_result",
          "data": {
            "text/plain": [
              "<matplotlib.axes._subplots.AxesSubplot at 0x7f322fbdd048>"
            ]
          },
          "metadata": {
            "tags": []
          },
          "execution_count": 6
        },
        {
          "output_type": "display_data",
          "data": {
            "image/png": "[encoded data removed]",
            "text/plain": [
              "<Figure size 432x288 with 1 Axes>"
            ]
          },
          "metadata": {
            "tags": []
          }
        }
      ]
    },
    {
      "cell_type": "code",
      "metadata": {
        "id": "02ep4oLXLTzx",
        "colab_type": "code",
        "outputId": "799d96cc-4592-4ee0-80b2-9088b3822933",
        "colab": {
          "base_uri": "https://localhost:8080/",
          "height": 269
        }
      },
      "source": [
        "# Now let's look at the age columns, and since age is continuous variable, lets use histogram.\n",
        "\n",
        "survived = titanic_train_df[titanic_train_df['Survived'] == 1]\n",
        "not_survived = titanic_train_df[titanic_train_df['Survived'] == 0]\n",
        "\n",
        "survived['Age'].plot.hist(alpha=0.3, color='green', bins = 50)\n",
        "not_survived['Age'].plot.hist(alpha=0.3, color='red', bins = 50)\n",
        "\n",
        "plt.legend(['Survived','Died'])\n",
        "plt.show()"
      ],
      "execution_count": 7,
      "outputs": [
        {
          "output_type": "display_data",
          "data": {
            "image/png": "[encoded data removed]",
            "text/plain": [
              "<Figure size 432x288 with 1 Axes>"
            ]
          },
          "metadata": {
            "tags": []
          }
        }
      ]
    },
    {
      "cell_type": "code",
      "metadata": {
        "id": "Zjf_yL8aSgE2",
        "colab_type": "code",
        "colab": {
          "base_uri": "https://localhost:8080/",
          "height": 350
        },
        "outputId": "da96bc5c-73c9-4c51-f99b-96d3d249dd6c"
      },
      "source": [
        "# lets check Name feature. As every name has a title\n",
        "\n",
        "titanic_train_df['Title'] = [ x.split(',')[1].split('.')[0] for x in titanic_train_df['Name']]\n",
        "titanic_test_df['Title'] = [ x.split(',')[1].split('.')[0] for x in titanic_test_df['Name']]\n",
        "\n",
        "titanic_train_df['Title'] = titanic_train_df['Title'].str.strip()\n",
        "titanic_test_df['Title'] = titanic_test_df['Title'].str.strip()\n",
        "\n",
        "\n",
        "set(np.concatenate([titanic_train_df['Title'].unique(), titanic_test_df['Title'].unique()], axis=0))"
      ],
      "execution_count": 8,
      "outputs": [
        {
          "output_type": "execute_result",
          "data": {
            "text/plain": [
              "{'Capt',\n",
              " 'Col',\n",
              " 'Don',\n",
              " 'Dona',\n",
              " 'Dr',\n",
              " 'Jonkheer',\n",
              " 'Lady',\n",
              " 'Major',\n",
              " 'Master',\n",
              " 'Miss',\n",
              " 'Mlle',\n",
              " 'Mme',\n",
              " 'Mr',\n",
              " 'Mrs',\n",
              " 'Ms',\n",
              " 'Rev',\n",
              " 'Sir',\n",
              " 'the Countess'}"
            ]
          },
          "metadata": {
            "tags": []
          },
          "execution_count": 8
        }
      ]
    },
    {
      "cell_type": "code",
      "metadata": {
        "id": "7s7EOELUGgC3",
        "colab_type": "code",
        "colab": {
          "base_uri": "https://localhost:8080/",
          "height": 301
        },
        "outputId": "da26b18c-2d6c-4a99-f207-d5ee2c8cf96e"
      },
      "source": [
        "\n",
        "sns.countplot(y= 'Title', hue='Survived', data = titanic_train_df)\n"
      ],
      "execution_count": 115,
      "outputs": [
        {
          "output_type": "execute_result",
          "data": {
            "text/plain": [
              "<matplotlib.axes._subplots.AxesSubplot at 0x7f31b5b3eac8>"
            ]
          },
          "metadata": {
            "tags": []
          },
          "execution_count": 115
        },
        {
          "output_type": "display_data",
          "data": {
            "image/png": "[encoded data removed]",
            "text/plain": [
              "<Figure size 432x288 with 1 Axes>"
            ]
          },
          "metadata": {
            "tags": []
          }
        }
      ]
    },
    {
      "cell_type": "code",
      "metadata": {
        "id": "rQ2oLzOfcldS",
        "colab_type": "code",
        "colab": {
          "base_uri": "https://localhost:8080/",
          "height": 498
        },
        "outputId": "08ebee50-7cb8-46c0-c38c-77d5a0a551b5"
      },
      "source": [
        "#Now lets check data \n",
        "\n",
        "titanic_train_df.isnull().sum() , titanic_test_df.isnull().sum()"
      ],
      "execution_count": 10,
      "outputs": [
        {
          "output_type": "execute_result",
          "data": {
            "text/plain": [
              "(PassengerId      0\n",
              " Survived         0\n",
              " Pclass           0\n",
              " Name             0\n",
              " Sex              0\n",
              " Age            177\n",
              " SibSp            0\n",
              " Parch            0\n",
              " Ticket           0\n",
              " Fare             0\n",
              " Cabin          687\n",
              " Embarked         2\n",
              " Title            0\n",
              " dtype: int64, PassengerId      0\n",
              " Pclass           0\n",
              " Name             0\n",
              " Sex              0\n",
              " Age             86\n",
              " SibSp            0\n",
              " Parch            0\n",
              " Ticket           0\n",
              " Fare             1\n",
              " Cabin          327\n",
              " Embarked         0\n",
              " Title            0\n",
              " dtype: int64)"
            ]
          },
          "metadata": {
            "tags": []
          },
          "execution_count": 10
        }
      ]
    },
    {
      "cell_type": "code",
      "metadata": {
        "id": "AjFm-Q9LZ25r",
        "colab_type": "code",
        "colab": {
          "base_uri": "https://localhost:8080/",
          "height": 206
        },
        "outputId": "75cccd02-891c-4355-9ccf-2401a40403cd"
      },
      "source": [
        "titanic_combined = pd.concat([titanic_train_df.drop('Survived', axis=1), titanic_test_df], axis=0)\n",
        "title_mean_age = titanic_combined.groupby(['Title', 'Sex', 'Pclass']).mean().reset_index()[['Title', 'Sex', 'Pclass', 'Age']]\n",
        "title_mean_age.head()"
      ],
      "execution_count": 11,
      "outputs": [
        {
          "output_type": "execute_result",
          "data": {
            "text/html": [
              "<div>\n",
              "<style scoped>\n",
              "    .dataframe tbody tr th:only-of-type {\n",
              "        vertical-align: middle;\n",
              "    }\n",
              "\n",
              "    .dataframe tbody tr th {\n",
              "        vertical-align: top;\n",
              "    }\n",
              "\n",
              "    .dataframe thead th {\n",
              "        text-align: right;\n",
              "    }\n",
              "</style>\n",
              "<table border=\"1\" class=\"dataframe\">\n",
              "  <thead>\n",
              "    <tr style=\"text-align: right;\">\n",
              "      <th></th>\n",
              "      <th>Title</th>\n",
              "      <th>Sex</th>\n",
              "      <th>Pclass</th>\n",
              "      <th>Age</th>\n",
              "    </tr>\n",
              "  </thead>\n",
              "  <tbody>\n",
              "    <tr>\n",
              "      <th>0</th>\n",
              "      <td>Capt</td>\n",
              "      <td>male</td>\n",
              "      <td>1</td>\n",
              "      <td>70.0</td>\n",
              "    </tr>\n",
              "    <tr>\n",
              "      <th>1</th>\n",
              "      <td>Col</td>\n",
              "      <td>male</td>\n",
              "      <td>1</td>\n",
              "      <td>54.0</td>\n",
              "    </tr>\n",
              "    <tr>\n",
              "      <th>2</th>\n",
              "      <td>Don</td>\n",
              "      <td>male</td>\n",
              "      <td>1</td>\n",
              "      <td>40.0</td>\n",
              "    </tr>\n",
              "    <tr>\n",
              "      <th>3</th>\n",
              "      <td>Dona</td>\n",
              "      <td>female</td>\n",
              "      <td>1</td>\n",
              "      <td>39.0</td>\n",
              "    </tr>\n",
              "    <tr>\n",
              "      <th>4</th>\n",
              "      <td>Dr</td>\n",
              "      <td>female</td>\n",
              "      <td>1</td>\n",
              "      <td>49.0</td>\n",
              "    </tr>\n",
              "  </tbody>\n",
              "</table>\n",
              "</div>"
            ],
            "text/plain": [
              "  Title     Sex  Pclass   Age\n",
              "0  Capt    male       1  70.0\n",
              "1   Col    male       1  54.0\n",
              "2   Don    male       1  40.0\n",
              "3  Dona  female       1  39.0\n",
              "4    Dr  female       1  49.0"
            ]
          },
          "metadata": {
            "tags": []
          },
          "execution_count": 11
        }
      ]
    },
    {
      "cell_type": "code",
      "metadata": {
        "id": "bw3GcH7W1BVa",
        "colab_type": "code",
        "colab": {
          "base_uri": "https://localhost:8080/",
          "height": 35
        },
        "outputId": "62106861-72b1-4196-f960-41ee5088b18a"
      },
      "source": [
        "\n",
        "def missing_age(row):\n",
        "  check = (title_mean_age['Sex'] ==  row['Sex']) & (title_mean_age['Pclass'] == row['Pclass']) \\\n",
        "          & (title_mean_age['Title']==row['Title'])\n",
        "  \n",
        "  return title_mean_age[check]['Age'].values[0]\n",
        "\n",
        "titanic_train_df['Age'] = titanic_train_df.apply(lambda row: missing_age(row) if np.isnan(row['Age']) else row['Age'], axis=1)\n",
        "titanic_test_df['Age'] = titanic_test_df.apply(lambda row: missing_age(row) if np.isnan(row['Age']) else row['Age'], axis=1) \n",
        "\n",
        "titanic_train_df['Age'].isnull().sum(), titanic_test_df['Age'].isnull().sum()"
      ],
      "execution_count": 12,
      "outputs": [
        {
          "output_type": "execute_result",
          "data": {
            "text/plain": [
              "(0, 1)"
            ]
          },
          "metadata": {
            "tags": []
          },
          "execution_count": 12
        }
      ]
    },
    {
      "cell_type": "code",
      "metadata": {
        "id": "ewnxjYKz9ZPO",
        "colab_type": "code",
        "colab": {
          "base_uri": "https://localhost:8080/",
          "height": 35
        },
        "outputId": "b2dc5a52-cf19-47ea-e094-b4962d6fec0f"
      },
      "source": [
        "titanic_test_df['Age'].fillna(titanic_test_df['Age'].mean(), inplace=True)\n",
        "                             \n",
        "titanic_test_df['Age'].isnull().sum()         "
      ],
      "execution_count": 13,
      "outputs": [
        {
          "output_type": "execute_result",
          "data": {
            "text/plain": [
              "0"
            ]
          },
          "metadata": {
            "tags": []
          },
          "execution_count": 13
        }
      ]
    },
    {
      "cell_type": "code",
      "metadata": {
        "id": "4GEhZeCDLwfA",
        "colab_type": "code",
        "outputId": "96dedbaa-c504-486e-cc61-82d5f3c222b6",
        "colab": {
          "base_uri": "https://localhost:8080/",
          "height": 91
        }
      },
      "source": [
        "def group_age(data):\n",
        "  data['Age'].astype('float32')\n",
        "  cut_points = [0,5,12,18,35,60,100]\n",
        "  label_names = [\"Infant\",\"Child\",\"Teenager\",\"Young\",\"Adult\",\"Senior\"]\n",
        "  #data[\"Age\"] = data[\"Age\"].fillna(-0.5)\n",
        "  data[\"Age_group\"] = pd.cut(data[\"Age\"],cut_points,labels=label_names)\n",
        "  return data\n",
        "\n",
        "titanic_train = group_age(titanic_train_df)\n",
        "titanic_test = group_age(titanic_test_df)\n",
        "\n",
        "titanic_train['Age_group'].unique(), titanic_test['Age_group'].unique()"
      ],
      "execution_count": 14,
      "outputs": [
        {
          "output_type": "execute_result",
          "data": {
            "text/plain": [
              "([Young, Adult, Infant, Teenager, Child, Senior]\n",
              " Categories (6, object): [Infant < Child < Teenager < Young < Adult < Senior],\n",
              " [Young, Adult, Senior, Teenager, Child, Infant]\n",
              " Categories (6, object): [Infant < Child < Teenager < Young < Adult < Senior])"
            ]
          },
          "metadata": {
            "tags": []
          },
          "execution_count": 14
        }
      ]
    },
    {
      "cell_type": "code",
      "metadata": {
        "id": "HeqCxUPy090N",
        "colab_type": "code",
        "colab": {
          "base_uri": "https://localhost:8080/",
          "height": 302
        },
        "outputId": "1f1cfbc5-f978-41f5-938c-3cb41aa68bc8"
      },
      "source": [
        "sns.countplot(x='Age_group', hue='Survived', data = titanic_train)"
      ],
      "execution_count": 15,
      "outputs": [
        {
          "output_type": "execute_result",
          "data": {
            "text/plain": [
              "<matplotlib.axes._subplots.AxesSubplot at 0x7f322f8c7eb8>"
            ]
          },
          "metadata": {
            "tags": []
          },
          "execution_count": 15
        },
        {
          "output_type": "display_data",
          "data": {
            "image/png": "[encoded data removed]",
            "text/plain": [
              "<Figure size 432x288 with 1 Axes>"
            ]
          },
          "metadata": {
            "tags": []
          }
        }
      ]
    },
    {
      "cell_type": "code",
      "metadata": {
        "id": "72M_68IJq89r",
        "colab_type": "code",
        "colab": {
          "base_uri": "https://localhost:8080/",
          "height": 535
        },
        "outputId": "5655f407-4c08-4632-a774-41f51c6f2143"
      },
      "source": [
        "titanic_train['Embarked'].fillna(titanic_train['Embarked'].mode().values[0], inplace = True)\n",
        "\n",
        "titanic_test['Fare'].fillna(titanic_combined['Fare'].mean(), inplace=True)\n",
        "titanic_train['Fare'].fillna(titanic_combined['Fare'].mean(), inplace=True)\n",
        "\n",
        "titanic_train.isnull().sum(), titanic_test.isnull().sum()"
      ],
      "execution_count": 16,
      "outputs": [
        {
          "output_type": "execute_result",
          "data": {
            "text/plain": [
              "(PassengerId      0\n",
              " Survived         0\n",
              " Pclass           0\n",
              " Name             0\n",
              " Sex              0\n",
              " Age              0\n",
              " SibSp            0\n",
              " Parch            0\n",
              " Ticket           0\n",
              " Fare             0\n",
              " Cabin          687\n",
              " Embarked         0\n",
              " Title            0\n",
              " Age_group        0\n",
              " dtype: int64, PassengerId      0\n",
              " Pclass           0\n",
              " Name             0\n",
              " Sex              0\n",
              " Age              0\n",
              " SibSp            0\n",
              " Parch            0\n",
              " Ticket           0\n",
              " Fare             0\n",
              " Cabin          327\n",
              " Embarked         0\n",
              " Title            0\n",
              " Age_group        0\n",
              " dtype: int64)"
            ]
          },
          "metadata": {
            "tags": []
          },
          "execution_count": 16
        }
      ]
    },
    {
      "cell_type": "code",
      "metadata": {
        "id": "dAU4yFxN-MCK",
        "colab_type": "code",
        "colab": {
          "base_uri": "https://localhost:8080/",
          "height": 35
        },
        "outputId": "44ddca07-6a7a-4cdb-ac87-681a4b59d227"
      },
      "source": [
        "#let's check cabin\n",
        "cabin_train = [x[0] for x in titanic_train[~titanic_train['Cabin'].isnull()]['Cabin']]\n",
        "cabin_test = [x[0] for x in titanic_test[~titanic_test['Cabin'].isnull()]['Cabin']]\n",
        "\n",
        "set(cabin_train), set(cabin_test)"
      ],
      "execution_count": 17,
      "outputs": [
        {
          "output_type": "execute_result",
          "data": {
            "text/plain": [
              "({'A', 'B', 'C', 'D', 'E', 'F', 'G', 'T'}, {'A', 'B', 'C', 'D', 'E', 'F', 'G'})"
            ]
          },
          "metadata": {
            "tags": []
          },
          "execution_count": 17
        }
      ]
    },
    {
      "cell_type": "code",
      "metadata": {
        "id": "Xm8l_l4Objdn",
        "colab_type": "code",
        "colab": {
          "base_uri": "https://localhost:8080/",
          "height": 35
        },
        "outputId": "cb624dd5-1aae-4f61-9a99-0c160cf8a176"
      },
      "source": [
        "#fill unknown cabin information with U:unknown\n",
        "\n",
        "titanic_train['Cabin'].fillna('U', inplace = True)\n",
        "titanic_train['Cabin'] = [x[0] for x in titanic_train['Cabin']]\n",
        "\n",
        "titanic_test['Cabin'].fillna('U', inplace = True)\n",
        "titanic_test['Cabin'] = [x[0] for x in titanic_test['Cabin']]\n",
        "\n",
        "titanic_train['Cabin'].unique()"
      ],
      "execution_count": 18,
      "outputs": [
        {
          "output_type": "execute_result",
          "data": {
            "text/plain": [
              "array(['U', 'C', 'E', 'G', 'D', 'A', 'B', 'F', 'T'], dtype=object)"
            ]
          },
          "metadata": {
            "tags": []
          },
          "execution_count": 18
        }
      ]
    },
    {
      "cell_type": "code",
      "metadata": {
        "id": "XkI9akgiiyqd",
        "colab_type": "code",
        "colab": {
          "base_uri": "https://localhost:8080/",
          "height": 301
        },
        "outputId": "25c1abb0-ddd0-4bdd-aef7-e7649a2ed66c"
      },
      "source": [
        "sns.countplot(x='Cabin', hue='Survived', data = titanic_train)"
      ],
      "execution_count": 26,
      "outputs": [
        {
          "output_type": "execute_result",
          "data": {
            "text/plain": [
              "<matplotlib.axes._subplots.AxesSubplot at 0x7f322e51a160>"
            ]
          },
          "metadata": {
            "tags": []
          },
          "execution_count": 26
        },
        {
          "output_type": "display_data",
          "data": {
            "image/png": "[encoded data removed]",
            "text/plain": [
              "<Figure size 432x288 with 1 Axes>"
            ]
          },
          "metadata": {
            "tags": []
          }
        }
      ]
    },
    {
      "cell_type": "code",
      "metadata": {
        "id": "Z3IEDpumIZE9",
        "colab_type": "code",
        "colab": {
          "base_uri": "https://localhost:8080/",
          "height": 331
        },
        "outputId": "ca5ecbf3-cc9d-4ee3-d8fa-3999de166b1f"
      },
      "source": [
        "#Merge SibSp and Parch in one feature\n",
        "def family_size(data):\n",
        "  d = data['Parch']+data['SibSp']+1\n",
        "  return d\n",
        "\n",
        "titanic_train['FamilySize'] = family_size(titanic_train[['Parch', 'SibSp']])\n",
        "titanic_test['FamilySize'] = family_size(titanic_test[['Parch', 'SibSp']])\n",
        "\n",
        "titanic_train['FamilySize'].describe(), titanic_test['FamilySize'].describe()\n"
      ],
      "execution_count": 19,
      "outputs": [
        {
          "output_type": "execute_result",
          "data": {
            "text/plain": [
              "(count    891.000000\n",
              " mean       1.904602\n",
              " std        1.613459\n",
              " min        1.000000\n",
              " 25%        1.000000\n",
              " 50%        1.000000\n",
              " 75%        2.000000\n",
              " max       11.000000\n",
              " Name: FamilySize, dtype: float64, count    418.000000\n",
              " mean       1.839713\n",
              " std        1.519072\n",
              " min        1.000000\n",
              " 25%        1.000000\n",
              " 50%        1.000000\n",
              " 75%        2.000000\n",
              " max       11.000000\n",
              " Name: FamilySize, dtype: float64)"
            ]
          },
          "metadata": {
            "tags": []
          },
          "execution_count": 19
        }
      ]
    },
    {
      "cell_type": "code",
      "metadata": {
        "id": "-nk0WnrnKclk",
        "colab_type": "code",
        "colab": {
          "base_uri": "https://localhost:8080/",
          "height": 91
        },
        "outputId": "8c18c6c3-86af-4c6d-903d-540d59d0e079"
      },
      "source": [
        "def group_family(data):\n",
        "  data['FamilySize'].astype('float32')\n",
        "  cut_points = [0,1,2,3,15]\n",
        "  label_names = [\"Single\",\"Couple\",\"Small\",\"Large\"]\n",
        "  #data[\"Age\"] = data[\"Age\"].fillna(-0.5)\n",
        "  data[\"Family\"] = pd.cut(data[\"FamilySize\"],cut_points,labels=label_names)\n",
        "  return data\n",
        "\n",
        "titanic_train = group_family(titanic_train)\n",
        "titanic_test = group_family(titanic_test)\n",
        "\n",
        "titanic_train['Family'].unique(), titanic_test['Family'].unique()"
      ],
      "execution_count": 20,
      "outputs": [
        {
          "output_type": "execute_result",
          "data": {
            "text/plain": [
              "([Couple, Single, Large, Small]\n",
              " Categories (4, object): [Single < Couple < Small < Large],\n",
              " [Single, Couple, Small, Large]\n",
              " Categories (4, object): [Single < Couple < Small < Large])"
            ]
          },
          "metadata": {
            "tags": []
          },
          "execution_count": 20
        }
      ]
    },
    {
      "cell_type": "code",
      "metadata": {
        "id": "x2vEqk4FEpN2",
        "colab_type": "code",
        "colab": {
          "base_uri": "https://localhost:8080/",
          "height": 301
        },
        "outputId": "e561cbe6-1a63-462d-830a-21a3145adf75"
      },
      "source": [
        "sns.countplot(x='Family', hue='Survived', data = titanic_train)"
      ],
      "execution_count": 27,
      "outputs": [
        {
          "output_type": "execute_result",
          "data": {
            "text/plain": [
              "<matplotlib.axes._subplots.AxesSubplot at 0x7f322e52c400>"
            ]
          },
          "metadata": {
            "tags": []
          },
          "execution_count": 27
        },
        {
          "output_type": "display_data",
          "data": {
            "image/png": "[encoded data removed]",
            "text/plain": [
              "<Figure size 432x288 with 1 Axes>"
            ]
          },
          "metadata": {
            "tags": []
          }
        }
      ]
    },
    {
      "cell_type": "code",
      "metadata": {
        "id": "7w8OkYM6PYc9",
        "colab_type": "code",
        "colab": {}
      },
      "source": [
        "\n",
        "titanic_train['Fare'] = titanic_train['Fare'] / float(titanic_combined['Fare'].max())\n",
        "titanic_test['Fare'] = titanic_test['Fare'] / float(titanic_combined['Fare'].max())\n",
        "\n",
        "\n",
        "#titanic_train['Parch'] = titanic_train['Parch'] / float(titanic_combined['Parch'].max())\n",
        "#titanic_test['Parch'] = titanic_test['Parch'] / float(titanic_combined['Parch'].max())\n",
        "\n",
        "\n",
        "#titanic_train['SibSp'] = titanic_train['SibSp'] / float(titanic_combined['SibSp'].max())\n",
        "#titanic_test['SibSp'] = titanic_test['SibSp'] / float(titanic_combined['SibSp'].max())"
      ],
      "execution_count": 0,
      "outputs": []
    },
    {
      "cell_type": "code",
      "metadata": {
        "id": "qLJS3dS8Rprd",
        "colab_type": "code",
        "colab": {}
      },
      "source": [
        "sex = pd.get_dummies(titanic_train['Sex'], prefix = 'Sex')\n",
        "embark = pd.get_dummies(titanic_train['Embarked'], prefix = 'Em')\n",
        "Pclass = pd.get_dummies(titanic_train['Pclass'], prefix = 'Pclass')\n",
        "Title = pd.get_dummies(titanic_train['Title'], prefix = 'Title')\n",
        "Cabin = pd.get_dummies(titanic_train['Cabin'], prefix = 'Cabin')\n",
        "#Parch = pd.get_dummies(titanic_train['Parch'], prefix = 'Parch')\n",
        "#SibSp = pd.get_dummies(titanic_train['SibSp'], prefix = 'SibSp')\n",
        "age = pd.get_dummies(titanic_train['Age_group'], prefix = 'Age')\n",
        "family = pd.get_dummies(titanic_train['Family'], prefix = 'F')\n",
        "# test set\n",
        "\n",
        "sex_test = pd.get_dummies(titanic_test['Sex'], prefix = 'Sex')\n",
        "embark_test = pd.get_dummies(titanic_test['Embarked'], prefix = 'Em')\n",
        "Pclass_test = pd.get_dummies(titanic_test['Pclass'], prefix = 'Pclass')\n",
        "Title_test = pd.get_dummies(titanic_test['Title'], prefix = 'Title')\n",
        "Cabin_test = pd.get_dummies(titanic_test['Cabin'], prefix = 'Cabin')\n",
        "#Parch_test = pd.get_dummies(titanic_test['Parch'], prefix = 'Parch')\n",
        "#SibSp_test = pd.get_dummies(titanic_test['SibSp'], prefix = 'SibSp')\n",
        "age_test = pd.get_dummies(titanic_test['Age_group'], prefix = 'Age')\n",
        "family_test = pd.get_dummies(titanic_test['Family'], prefix = 'F')"
      ],
      "execution_count": 0,
      "outputs": []
    },
    {
      "cell_type": "code",
      "metadata": {
        "id": "Y5en0wAmbaW8",
        "colab_type": "code",
        "colab": {}
      },
      "source": [
        "#titanic_data = pd.concat([titanic_train, sex, embark, Pclass, age, Parch, SibSp], axis=1)\n",
        "#titanic_data_test = pd.concat([titanic_test, sex_test, embark_test, Pclass_test, age_test, Parch_test, SibSp_test], axis=1)\n",
        "\n",
        "\n",
        "\n",
        "titanic_data = pd.concat([titanic_train, sex, embark, Pclass, age, Title, Cabin, family], axis=1)\n",
        "titanic_data_test = pd.concat([titanic_test, sex_test, embark_test, Pclass_test, age_test, Title_test, Cabin_test, family_test], axis=1)\n"
      ],
      "execution_count": 0,
      "outputs": []
    },
    {
      "cell_type": "code",
      "metadata": {
        "id": "37ire61I66YZ",
        "colab_type": "code",
        "colab": {}
      },
      "source": [
        "titanic_data.drop(['Ticket', 'Name', 'Age'],axis =1, inplace=True) #not relevent to the survival\n",
        "titanic_data.drop(['Sex', 'Embarked', 'Pclass', 'Age_group', 'Cabin', 'Title', 'FamilySize', 'Family', 'Parch', 'SibSp'], axis = 1, inplace=True) #already modified\n",
        "\n",
        "\n",
        "\n",
        "titanic_data_test.drop(['Ticket', 'Name', 'Age'],axis = 1, inplace=True) #not relevent to the survival\n",
        "titanic_data_test.drop(['Sex', 'Embarked', 'Pclass', 'Age_group', 'Cabin', 'Title',  'FamilySize', 'Family', 'Parch', 'SibSp'], axis = 1, inplace=True)#already modified\n",
        "\n"
      ],
      "execution_count": 0,
      "outputs": []
    },
    {
      "cell_type": "code",
      "metadata": {
        "id": "74Y3iDJWJXyp",
        "colab_type": "code",
        "colab": {
          "base_uri": "https://localhost:8080/",
          "height": 350
        },
        "outputId": "a9cd21a5-1e4e-4c8e-861d-dc24173a6ca3"
      },
      "source": [
        "titanic_data.columns , titanic_data_test.columns"
      ],
      "execution_count": 32,
      "outputs": [
        {
          "output_type": "execute_result",
          "data": {
            "text/plain": [
              "(Index(['PassengerId', 'Survived', 'Fare', 'Sex_female', 'Sex_male', 'Em_C',\n",
              "        'Em_Q', 'Em_S', 'Pclass_1', 'Pclass_2', 'Pclass_3', 'Age_Infant',\n",
              "        'Age_Child', 'Age_Teenager', 'Age_Young', 'Age_Adult', 'Age_Senior',\n",
              "        'Title_Capt', 'Title_Col', 'Title_Don', 'Title_Dr', 'Title_Jonkheer',\n",
              "        'Title_Lady', 'Title_Major', 'Title_Master', 'Title_Miss', 'Title_Mlle',\n",
              "        'Title_Mme', 'Title_Mr', 'Title_Mrs', 'Title_Ms', 'Title_Rev',\n",
              "        'Title_Sir', 'Title_the Countess', 'Cabin_A', 'Cabin_B', 'Cabin_C',\n",
              "        'Cabin_D', 'Cabin_E', 'Cabin_F', 'Cabin_G', 'Cabin_T', 'Cabin_U',\n",
              "        'F_Single', 'F_Couple', 'F_Small', 'F_Large'],\n",
              "       dtype='object'),\n",
              " Index(['PassengerId', 'Fare', 'Sex_female', 'Sex_male', 'Em_C', 'Em_Q', 'Em_S',\n",
              "        'Pclass_1', 'Pclass_2', 'Pclass_3', 'Age_Infant', 'Age_Child',\n",
              "        'Age_Teenager', 'Age_Young', 'Age_Adult', 'Age_Senior', 'Title_Col',\n",
              "        'Title_Dona', 'Title_Dr', 'Title_Master', 'Title_Miss', 'Title_Mr',\n",
              "        'Title_Mrs', 'Title_Ms', 'Title_Rev', 'Cabin_A', 'Cabin_B', 'Cabin_C',\n",
              "        'Cabin_D', 'Cabin_E', 'Cabin_F', 'Cabin_G', 'Cabin_U', 'F_Single',\n",
              "        'F_Couple', 'F_Small', 'F_Large'],\n",
              "       dtype='object'))"
            ]
          },
          "metadata": {
            "tags": []
          },
          "execution_count": 32
        }
      ]
    },
    {
      "cell_type": "code",
      "metadata": {
        "id": "i5CB8R7qMjtA",
        "colab_type": "code",
        "colab": {}
      },
      "source": [
        "X_train = titanic_data.drop(['Survived', 'PassengerId'], axis=1)\n",
        "Y_train = titanic_data['Survived']\n",
        "\n",
        "X_test = titanic_data_test.drop('PassengerId', axis=1)"
      ],
      "execution_count": 0,
      "outputs": []
    },
    {
      "cell_type": "code",
      "metadata": {
        "id": "lhHGR5F2-JBQ",
        "colab_type": "code",
        "colab": {
          "base_uri": "https://localhost:8080/",
          "height": 35
        },
        "outputId": "045a0f83-7b4e-4843-d6e7-894dbbeb4050"
      },
      "source": [
        "X_train.shape, X_test.shape"
      ],
      "execution_count": 34,
      "outputs": [
        {
          "output_type": "execute_result",
          "data": {
            "text/plain": [
              "((891, 45), (418, 36))"
            ]
          },
          "metadata": {
            "tags": []
          },
          "execution_count": 34
        }
      ]
    },
    {
      "cell_type": "code",
      "metadata": {
        "id": "DaLL3Y1YInFA",
        "colab_type": "code",
        "colab": {
          "base_uri": "https://localhost:8080/",
          "height": 244
        },
        "outputId": "cfea9aed-4d49-4f6e-af15-fdbb4f03c049"
      },
      "source": [
        "X_train.head()"
      ],
      "execution_count": 35,
      "outputs": [
        {
          "output_type": "execute_result",
          "data": {
            "text/html": [
              "<div>\n",
              "<style scoped>\n",
              "    .dataframe tbody tr th:only-of-type {\n",
              "        vertical-align: middle;\n",
              "    }\n",
              "\n",
              "    .dataframe tbody tr th {\n",
              "        vertical-align: top;\n",
              "    }\n",
              "\n",
              "    .dataframe thead th {\n",
              "        text-align: right;\n",
              "    }\n",
              "</style>\n",
              "<table border=\"1\" class=\"dataframe\">\n",
              "  <thead>\n",
              "    <tr style=\"text-align: right;\">\n",
              "      <th></th>\n",
              "      <th>Fare</th>\n",
              "      <th>Sex_female</th>\n",
              "      <th>Sex_male</th>\n",
              "      <th>Em_C</th>\n",
              "      <th>Em_Q</th>\n",
              "      <th>Em_S</th>\n",
              "      <th>Pclass_1</th>\n",
              "      <th>Pclass_2</th>\n",
              "      <th>Pclass_3</th>\n",
              "      <th>Age_Infant</th>\n",
              "      <th>Age_Child</th>\n",
              "      <th>Age_Teenager</th>\n",
              "      <th>Age_Young</th>\n",
              "      <th>Age_Adult</th>\n",
              "      <th>Age_Senior</th>\n",
              "      <th>Title_Capt</th>\n",
              "      <th>Title_Col</th>\n",
              "      <th>Title_Don</th>\n",
              "      <th>Title_Dr</th>\n",
              "      <th>Title_Jonkheer</th>\n",
              "      <th>Title_Lady</th>\n",
              "      <th>Title_Major</th>\n",
              "      <th>Title_Master</th>\n",
              "      <th>Title_Miss</th>\n",
              "      <th>Title_Mlle</th>\n",
              "      <th>Title_Mme</th>\n",
              "      <th>Title_Mr</th>\n",
              "      <th>Title_Mrs</th>\n",
              "      <th>Title_Ms</th>\n",
              "      <th>Title_Rev</th>\n",
              "      <th>Title_Sir</th>\n",
              "      <th>Title_the Countess</th>\n",
              "      <th>Cabin_A</th>\n",
              "      <th>Cabin_B</th>\n",
              "      <th>Cabin_C</th>\n",
              "      <th>Cabin_D</th>\n",
              "      <th>Cabin_E</th>\n",
              "      <th>Cabin_F</th>\n",
              "      <th>Cabin_G</th>\n",
              "      <th>Cabin_T</th>\n",
              "      <th>Cabin_U</th>\n",
              "      <th>F_Single</th>\n",
              "      <th>F_Couple</th>\n",
              "      <th>F_Small</th>\n",
              "      <th>F_Large</th>\n",
              "    </tr>\n",
              "  </thead>\n",
              "  <tbody>\n",
              "    <tr>\n",
              "      <th>0</th>\n",
              "      <td>0.000028</td>\n",
              "      <td>0</td>\n",
              "      <td>1</td>\n",
              "      <td>0</td>\n",
              "      <td>0</td>\n",
              "      <td>1</td>\n",
              "      <td>0</td>\n",
              "      <td>0</td>\n",
              "      <td>1</td>\n",
              "      <td>0</td>\n",
              "      <td>0</td>\n",
              "      <td>0</td>\n",
              "      <td>1</td>\n",
              "      <td>0</td>\n",
              "      <td>0</td>\n",
              "      <td>0</td>\n",
              "      <td>0</td>\n",
              "      <td>0</td>\n",
              "      <td>0</td>\n",
              "      <td>0</td>\n",
              "      <td>0</td>\n",
              "      <td>0</td>\n",
              "      <td>0</td>\n",
              "      <td>0</td>\n",
              "      <td>0</td>\n",
              "      <td>0</td>\n",
              "      <td>1</td>\n",
              "      <td>0</td>\n",
              "      <td>0</td>\n",
              "      <td>0</td>\n",
              "      <td>0</td>\n",
              "      <td>0</td>\n",
              "      <td>0</td>\n",
              "      <td>0</td>\n",
              "      <td>0</td>\n",
              "      <td>0</td>\n",
              "      <td>0</td>\n",
              "      <td>0</td>\n",
              "      <td>0</td>\n",
              "      <td>0</td>\n",
              "      <td>1</td>\n",
              "      <td>0</td>\n",
              "      <td>1</td>\n",
              "      <td>0</td>\n",
              "      <td>0</td>\n",
              "    </tr>\n",
              "    <tr>\n",
              "      <th>1</th>\n",
              "      <td>0.000272</td>\n",
              "      <td>1</td>\n",
              "      <td>0</td>\n",
              "      <td>1</td>\n",
              "      <td>0</td>\n",
              "      <td>0</td>\n",
              "      <td>1</td>\n",
              "      <td>0</td>\n",
              "      <td>0</td>\n",
              "      <td>0</td>\n",
              "      <td>0</td>\n",
              "      <td>0</td>\n",
              "      <td>0</td>\n",
              "      <td>1</td>\n",
              "      <td>0</td>\n",
              "      <td>0</td>\n",
              "      <td>0</td>\n",
              "      <td>0</td>\n",
              "      <td>0</td>\n",
              "      <td>0</td>\n",
              "      <td>0</td>\n",
              "      <td>0</td>\n",
              "      <td>0</td>\n",
              "      <td>0</td>\n",
              "      <td>0</td>\n",
              "      <td>0</td>\n",
              "      <td>0</td>\n",
              "      <td>1</td>\n",
              "      <td>0</td>\n",
              "      <td>0</td>\n",
              "      <td>0</td>\n",
              "      <td>0</td>\n",
              "      <td>0</td>\n",
              "      <td>0</td>\n",
              "      <td>1</td>\n",
              "      <td>0</td>\n",
              "      <td>0</td>\n",
              "      <td>0</td>\n",
              "      <td>0</td>\n",
              "      <td>0</td>\n",
              "      <td>0</td>\n",
              "      <td>0</td>\n",
              "      <td>1</td>\n",
              "      <td>0</td>\n",
              "      <td>0</td>\n",
              "    </tr>\n",
              "    <tr>\n",
              "      <th>2</th>\n",
              "      <td>0.000030</td>\n",
              "      <td>1</td>\n",
              "      <td>0</td>\n",
              "      <td>0</td>\n",
              "      <td>0</td>\n",
              "      <td>1</td>\n",
              "      <td>0</td>\n",
              "      <td>0</td>\n",
              "      <td>1</td>\n",
              "      <td>0</td>\n",
              "      <td>0</td>\n",
              "      <td>0</td>\n",
              "      <td>1</td>\n",
              "      <td>0</td>\n",
              "      <td>0</td>\n",
              "      <td>0</td>\n",
              "      <td>0</td>\n",
              "      <td>0</td>\n",
              "      <td>0</td>\n",
              "      <td>0</td>\n",
              "      <td>0</td>\n",
              "      <td>0</td>\n",
              "      <td>0</td>\n",
              "      <td>1</td>\n",
              "      <td>0</td>\n",
              "      <td>0</td>\n",
              "      <td>0</td>\n",
              "      <td>0</td>\n",
              "      <td>0</td>\n",
              "      <td>0</td>\n",
              "      <td>0</td>\n",
              "      <td>0</td>\n",
              "      <td>0</td>\n",
              "      <td>0</td>\n",
              "      <td>0</td>\n",
              "      <td>0</td>\n",
              "      <td>0</td>\n",
              "      <td>0</td>\n",
              "      <td>0</td>\n",
              "      <td>0</td>\n",
              "      <td>1</td>\n",
              "      <td>1</td>\n",
              "      <td>0</td>\n",
              "      <td>0</td>\n",
              "      <td>0</td>\n",
              "    </tr>\n",
              "    <tr>\n",
              "      <th>3</th>\n",
              "      <td>0.000202</td>\n",
              "      <td>1</td>\n",
              "      <td>0</td>\n",
              "      <td>0</td>\n",
              "      <td>0</td>\n",
              "      <td>1</td>\n",
              "      <td>1</td>\n",
              "      <td>0</td>\n",
              "      <td>0</td>\n",
              "      <td>0</td>\n",
              "      <td>0</td>\n",
              "      <td>0</td>\n",
              "      <td>1</td>\n",
              "      <td>0</td>\n",
              "      <td>0</td>\n",
              "      <td>0</td>\n",
              "      <td>0</td>\n",
              "      <td>0</td>\n",
              "      <td>0</td>\n",
              "      <td>0</td>\n",
              "      <td>0</td>\n",
              "      <td>0</td>\n",
              "      <td>0</td>\n",
              "      <td>0</td>\n",
              "      <td>0</td>\n",
              "      <td>0</td>\n",
              "      <td>0</td>\n",
              "      <td>1</td>\n",
              "      <td>0</td>\n",
              "      <td>0</td>\n",
              "      <td>0</td>\n",
              "      <td>0</td>\n",
              "      <td>0</td>\n",
              "      <td>0</td>\n",
              "      <td>1</td>\n",
              "      <td>0</td>\n",
              "      <td>0</td>\n",
              "      <td>0</td>\n",
              "      <td>0</td>\n",
              "      <td>0</td>\n",
              "      <td>0</td>\n",
              "      <td>0</td>\n",
              "      <td>1</td>\n",
              "      <td>0</td>\n",
              "      <td>0</td>\n",
              "    </tr>\n",
              "    <tr>\n",
              "      <th>4</th>\n",
              "      <td>0.000031</td>\n",
              "      <td>0</td>\n",
              "      <td>1</td>\n",
              "      <td>0</td>\n",
              "      <td>0</td>\n",
              "      <td>1</td>\n",
              "      <td>0</td>\n",
              "      <td>0</td>\n",
              "      <td>1</td>\n",
              "      <td>0</td>\n",
              "      <td>0</td>\n",
              "      <td>0</td>\n",
              "      <td>1</td>\n",
              "      <td>0</td>\n",
              "      <td>0</td>\n",
              "      <td>0</td>\n",
              "      <td>0</td>\n",
              "      <td>0</td>\n",
              "      <td>0</td>\n",
              "      <td>0</td>\n",
              "      <td>0</td>\n",
              "      <td>0</td>\n",
              "      <td>0</td>\n",
              "      <td>0</td>\n",
              "      <td>0</td>\n",
              "      <td>0</td>\n",
              "      <td>1</td>\n",
              "      <td>0</td>\n",
              "      <td>0</td>\n",
              "      <td>0</td>\n",
              "      <td>0</td>\n",
              "      <td>0</td>\n",
              "      <td>0</td>\n",
              "      <td>0</td>\n",
              "      <td>0</td>\n",
              "      <td>0</td>\n",
              "      <td>0</td>\n",
              "      <td>0</td>\n",
              "      <td>0</td>\n",
              "      <td>0</td>\n",
              "      <td>1</td>\n",
              "      <td>1</td>\n",
              "      <td>0</td>\n",
              "      <td>0</td>\n",
              "      <td>0</td>\n",
              "    </tr>\n",
              "  </tbody>\n",
              "</table>\n",
              "</div>"
            ],
            "text/plain": [
              "       Fare  Sex_female  Sex_male  Em_C  ...  F_Single  F_Couple  F_Small  F_Large\n",
              "0  0.000028           0         1     0  ...         0         1        0        0\n",
              "1  0.000272           1         0     1  ...         0         1        0        0\n",
              "2  0.000030           1         0     0  ...         1         0        0        0\n",
              "3  0.000202           1         0     0  ...         0         1        0        0\n",
              "4  0.000031           0         1     0  ...         1         0        0        0\n",
              "\n",
              "[5 rows x 45 columns]"
            ]
          },
          "metadata": {
            "tags": []
          },
          "execution_count": 35
        }
      ]
    },
    {
      "cell_type": "code",
      "metadata": {
        "id": "IaLHormkPUjR",
        "colab_type": "code",
        "outputId": "7ead5bc5-782b-4f75-87bc-ee7a020536d7",
        "colab": {
          "base_uri": "https://localhost:8080/",
          "height": 35
        }
      },
      "source": [
        "cols = list(X_train.columns)\n",
        "\n",
        "for x in cols:\n",
        "  if x not in X_test.columns:\n",
        "    X_test[x] = 0\n",
        "    \n",
        "X_test = X_test[cols]\n",
        "\n",
        "X_test.fillna(0, inplace=True)\n",
        "\n",
        "X_train.shape, X_test.shape\n"
      ],
      "execution_count": 36,
      "outputs": [
        {
          "output_type": "execute_result",
          "data": {
            "text/plain": [
              "((891, 45), (418, 45))"
            ]
          },
          "metadata": {
            "tags": []
          },
          "execution_count": 36
        }
      ]
    },
    {
      "cell_type": "code",
      "metadata": {
        "id": "_tHrqM0AM8Wu",
        "colab_type": "code",
        "colab": {}
      },
      "source": [
        "from sklearn.linear_model import LogisticRegression\n",
        "from sklearn.svm import SVC\n",
        "from sklearn.ensemble import RandomForestClassifier\n",
        "import matplotlib.pyplot as plt\n",
        "\n",
        "from sklearn.model_selection import GridSearchCV\n",
        "import warnings\n",
        "warnings.filterwarnings(\"ignore\", category=FutureWarning)\n",
        "\n",
        "accuracy = {}"
      ],
      "execution_count": 0,
      "outputs": []
    },
    {
      "cell_type": "code",
      "metadata": {
        "id": "I0MBE3bsZH7C",
        "colab_type": "code",
        "colab": {
          "base_uri": "https://localhost:8080/",
          "height": 54
        },
        "outputId": "09badcdc-9019-4b75-dcac-8d2abfa744f9"
      },
      "source": [
        "#Parameter tuning for logistics regression\n",
        "\n",
        "\n",
        "grid={\n",
        "    \"C\":[0.001, 0.01, 0.1, 1, 10, 100], \"max_iter\": [100, 130, 150, 200], \n",
        "     \"penalty\": ['l1', 'l2']\n",
        "      }\n",
        "logreg=LogisticRegression()\n",
        "logreg_cv=GridSearchCV(logreg,grid,cv=10, verbose=0)\n",
        "logreg_cv.fit(X_train,Y_train)\n",
        "accuracy['LR'] = round(logreg_cv.best_score_ * 100, 2)\n",
        "print(\"tuned hpyerparameters :(best parameters) \",logreg_cv.best_params_)\n",
        "print(\"accuracy :\",logreg_cv.best_score_)"
      ],
      "execution_count": 86,
      "outputs": [
        {
          "output_type": "stream",
          "text": [
            "tuned hpyerparameters :(best parameters)  {'C': 1, 'max_iter': 100, 'penalty': 'l2'}\n",
            "accuracy : 0.8249158249158249\n"
          ],
          "name": "stdout"
        }
      ]
    },
    {
      "cell_type": "code",
      "metadata": {
        "id": "C8osy2nHeGy8",
        "colab_type": "code",
        "colab": {
          "base_uri": "https://localhost:8080/",
          "height": 74
        },
        "outputId": "541e86d9-92db-4016-fa65-820ee90a5e98"
      },
      "source": [
        "#Parameter Tuning for Random Forest\n",
        "grid={\n",
        "    \"max_depth\":[4, 6, 8, 10], \"n_estimators\": [10, 50, 70, 100], \n",
        "     \"max_features\": ['sqrt', 'log2', 'auto'], \"bootstrap\": [True, False],\n",
        "      \"min_samples_split\":[2, 3, 7, 10], \"min_samples_leaf\" : [3, 5, 7, 10]\n",
        "      }\n",
        "ranfor=RandomForestClassifier()\n",
        "ranfor_cv=GridSearchCV(ranfor,grid,cv=10)\n",
        "ranfor_cv.fit(X_train,Y_train)\n",
        "accuracy['RF'] = round(ranfor_cv.best_score_ * 100, 2)\n",
        "print(\"tuned hpyerparameters :(best parameters) \",ranfor_cv.best_params_)\n",
        "print(\"accuracy :\",ranfor_cv.best_score_)"
      ],
      "execution_count": 88,
      "outputs": [
        {
          "output_type": "stream",
          "text": [
            "tuned hpyerparameters :(best parameters)  {'bootstrap': True, 'max_depth': 10, 'max_features': 'sqrt', 'min_samples_leaf': 3, 'min_samples_split': 10, 'n_estimators': 70}\n",
            "accuracy : 0.8395061728395061\n"
          ],
          "name": "stdout"
        }
      ]
    },
    {
      "cell_type": "code",
      "metadata": {
        "id": "5DNxJByOmiBx",
        "colab_type": "code",
        "colab": {
          "base_uri": "https://localhost:8080/",
          "height": 54
        },
        "outputId": "478f5e67-2749-486a-d2d5-245aded6ebcf"
      },
      "source": [
        "# Parameter Tuning for SVC\n",
        "grid=[{'kernel': ['rbf'], 'gamma': [1e-2, 1e-3, 1e-4],\n",
        "      'C': [0.001, 0.10, 0.1]},\n",
        "      {'kernel': ['sigmoid'], 'gamma': [1e-2, 1e-3, 1e-4],\n",
        "      'C': [0.001, 0.10, 0.1]},\n",
        "       {'kernel': ['linear'], 'C': [0.001, 0.10, 0.1]}\n",
        "       ]\n",
        "\n",
        "svc=SVC()\n",
        "svc_cv=GridSearchCV(svc,grid,cv=10)\n",
        "svc_cv.fit(X_train,Y_train)\n",
        "accuracy['SVC'] = round(svc_cv.best_score_* 100, 2)\n",
        "print(\"tuned hpyerparameters :(best parameters) \",svc_cv.best_params_)\n",
        "print(\"accuracy :\",svc_cv.best_score_)"
      ],
      "execution_count": 34,
      "outputs": [
        {
          "output_type": "stream",
          "text": [
            "tuned hpyerparameters :(best parameters)  {'C': 0.1, 'kernel': 'linear'}\n",
            "accuracy : 0.813692480359147\n"
          ],
          "name": "stdout"
        }
      ]
    },
    {
      "cell_type": "code",
      "metadata": {
        "id": "WXSrwuFOkvJ3",
        "colab_type": "code",
        "colab": {
          "base_uri": "https://localhost:8080/",
          "height": 35
        },
        "outputId": "07ce9e42-e6fb-4b11-a582-b7f90dcd6aff"
      },
      "source": [
        "from keras import layers, models\n",
        "from keras.wrappers.scikit_learn import KerasClassifier\n",
        "\n",
        "def create_model(droprate=0, act='relu', act2='sigmoid', opt = 'adam'):\n",
        "  model_dnn = models.Sequential()\n",
        "  model_dnn.add(layers.Dense(128, activation=act, input_shape=(X_train.shape[1],)))\n",
        "  model_dnn.add(layers.Dropout(droprate))\n",
        "  model_dnn.add(layers.Dense(1, activation=act2))\n",
        "  model_dnn.compile(optimizer=opt, loss='binary_crossentropy', metrics=['acc'])\n",
        "  \n",
        "  return model_dnn"
      ],
      "execution_count": 41,
      "outputs": [
        {
          "output_type": "stream",
          "text": [
            "Using TensorFlow backend.\n"
          ],
          "name": "stderr"
        }
      ]
    },
    {
      "cell_type": "code",
      "metadata": {
        "id": "_nBZa-aclpTg",
        "colab_type": "code",
        "colab": {
          "base_uri": "https://localhost:8080/",
          "height": 54
        },
        "outputId": "1fd0b5a5-be14-4223-8b13-5332cebbedc2"
      },
      "source": [
        "#Parameter Tunig for DNN\n",
        "model = KerasClassifier(build_fn=create_model, epochs=100, batch_size=100, verbose=0)\n",
        "\n",
        "grid ={\n",
        "'droprate' : [0.2, 0.3, 0.4, 0.5],\n",
        "'act': ['relu', 'tanh'],\n",
        " 'opt': ['RMSprop', 'sgd', 'adam'],\n",
        " 'act2': ['sigmoid', 'hard_sigmoid']\n",
        "      }\n",
        "dnn = GridSearchCV(model, grid)\n",
        "\n",
        "dnn.fit(X_train, Y_train)\n",
        "\n",
        "accuracy['DNN'] = round(dnn.best_score_ * 100, 2)\n",
        "\n",
        "print(\"tuned hpyerparameters :(best parameters) \",dnn.best_params_)\n",
        "print(\"accuracy :\",dnn.best_score_)"
      ],
      "execution_count": 49,
      "outputs": [
        {
          "output_type": "stream",
          "text": [
            "tuned hpyerparameters :(best parameters)  {'act': 'relu', 'act2': 'hard_sigmoid', 'droprate': 0.4, 'opt': 'RMSprop'}\n",
            "accuracy : 0.8305274903707365\n"
          ],
          "name": "stdout"
        }
      ]
    },
    {
      "cell_type": "code",
      "metadata": {
        "id": "l7uCe8gmvN8U",
        "colab_type": "code",
        "colab": {
          "base_uri": "https://localhost:8080/",
          "height": 281
        },
        "outputId": "ce58837d-a3ed-4eee-f692-dc1f9e5a1863"
      },
      "source": [
        "x_pos = np.arange(len(accuracy.keys()))\n",
        "plt.bar(x_pos, accuracy.values(), align='center', alpha=0.5)\n",
        "plt.xticks(x_pos, accuracy.keys())\n",
        "plt.ylabel('Accuracy')\n",
        "plt.title('Model Accuracy')\n",
        "\n",
        "plt.show()"
      ],
      "execution_count": 91,
      "outputs": [
        {
          "output_type": "display_data",
          "data": {
            "image/png": "[encoded data removed]",
            "text/plain": [
              "<Figure size 432x288 with 1 Axes>"
            ]
          },
          "metadata": {
            "tags": []
          }
        }
      ]
    },
    {
      "cell_type": "code",
      "metadata": {
        "id": "wFwUt6cDudy2",
        "colab_type": "code",
        "colab": {
          "base_uri": "https://localhost:8080/",
          "height": 295
        },
        "outputId": "941e5fa3-4fbb-4a31-c35e-c048205ed748"
      },
      "source": [
        "#\n",
        "dnn_model = create_model(droprate=0.4, act='relu', act2='hard_sigmoid', opt = 'RMSprop')\n",
        "\n",
        "history = dnn_model.fit(X_train, Y_train, epochs=100, batch_size=100, verbose=0)\n",
        "\n",
        "\n",
        "#Comaprative Model Loss\n",
        "epoch = range(100)\n",
        "plt.plot(epoch,history.history['acc'], linewidth=2, label='Accuracy')\n",
        "plt.plot(epoch,history.history['loss'], linewidth=2, label='Loss')\n",
        "plt.legend(loc='upper right')\n",
        "plt.title('Model - Accuracy/Loss')\n",
        "plt.xlabel('Epoch')\n",
        "plt.show()"
      ],
      "execution_count": 80,
      "outputs": [
        {
          "output_type": "display_data",
          "data": {
            "image/png": "[encoded data removed]",
            "text/plain": [
              "<Figure size 432x288 with 1 Axes>"
            ]
          },
          "metadata": {
            "tags": []
          }
        }
      ]
    },
    {
      "cell_type": "code",
      "metadata": {
        "id": "llpZqQvHp-wg",
        "colab_type": "code",
        "colab": {}
      },
      "source": [
        "from sklearn import metrics\n",
        "\n",
        "model_LR = LogisticRegression(C=0.1, max_iter=100, penalty='l2')\n",
        "model_LR.fit(X_train, Y_train)\n",
        "pred_LR = model_LR.predict(X_train)\n",
        "fpr_LR, tpr_LR, thresholds_LR = metrics.roc_curve(Y_train, pred_LR)\n",
        "auc_LR = metrics.auc(fpr_LR, tpr_LR,)\n",
        "\n",
        "model_RF = RandomForestClassifier(bootstrap = True, max_depth = 10, max_features = 'sqrt', min_samples_leaf = 3,\n",
        "                                  min_samples_split = 10, n_estimators = 70)\n",
        "model_RF.fit(X_train, Y_train)\n",
        "pred_RF = model_RF.predict(X_train)\n",
        "fpr_RF, tpr_RF, thresholds_RF = metrics.roc_curve(Y_train, pred_RF)\n",
        "auc_RF = metrics.auc(fpr_RF, tpr_RF,)\n",
        "\n",
        "model_SVC = SVC(C = 0.1, kernel = 'linear')\n",
        "model_SVC.fit(X_train, Y_train)\n",
        "pred_SVC = model_SVC.predict(X_train)\n",
        "fpr_SVC, tpr_SVC, thresholds_SVC = metrics.roc_curve(Y_train, pred_SVC)\n",
        "auc_SVC = metrics.auc(fpr_SVC, tpr_SVC,)"
      ],
      "execution_count": 0,
      "outputs": []
    },
    {
      "cell_type": "code",
      "metadata": {
        "id": "wjvVAKbYiLW0",
        "colab_type": "code",
        "colab": {}
      },
      "source": [
        "#prediction from dnn\n",
        "\n",
        "pred = dnn_model.predict(X_train)\n",
        "pred_dnn = [int(round(x[0])) for x in pred]\n",
        "\n",
        "fpr_dnn, tpr_dnn, thresholds_dnn = metrics.roc_curve(Y_train, pred_dnn)\n",
        "auc_dnn = metrics.auc(fpr_dnn, tpr_dnn)\n"
      ],
      "execution_count": 0,
      "outputs": []
    },
    {
      "cell_type": "code",
      "metadata": {
        "id": "bht7AcF5r-Bk",
        "colab_type": "code",
        "colab": {
          "base_uri": "https://localhost:8080/",
          "height": 893
        },
        "outputId": "d74e0e7d-ec78-4f20-c293-f41f5cb310ff"
      },
      "source": [
        "fig = plt.figure(figsize = (15,15))\n",
        "\n",
        "plt.subplot(2,2,1)\n",
        "plt.plot(fpr_LR, tpr_LR, linewidth=5, label='AUC = %0.3f'% auc_LR)\n",
        "plt.plot([0,1],[0,1], linewidth=5)\n",
        "plt.xlim([-0.01, 1])\n",
        "plt.ylim([0, 1.01])\n",
        "plt.legend(loc='lower right')\n",
        "plt.title('ROC Curve - LinearRegression')\n",
        "plt.ylabel('True Positive Rate')\n",
        "plt.xlabel('False Positive Rate')\n",
        "\n",
        "plt.subplot(2,2,2)\n",
        "plt.plot(fpr_RF, tpr_RF, linewidth=5, label='AUC = %0.3f'% auc_RF)\n",
        "plt.plot([0,1],[0,1], linewidth=5)\n",
        "plt.xlim([-0.01, 1])\n",
        "plt.ylim([0, 1.01])\n",
        "plt.legend(loc='lower right')\n",
        "plt.title('ROC Curve - RandomForest')\n",
        "plt.ylabel('True Positive Rate')\n",
        "plt.xlabel('False Positive Rate')\n",
        "\n",
        "plt.subplot(2,2,3)\n",
        "plt.plot(fpr_SVC, tpr_SVC, linewidth=5, label='AUC = %0.3f'% auc_SVC)\n",
        "plt.plot([0,1],[0,1], linewidth=5)\n",
        "plt.xlim([-0.01, 1])\n",
        "plt.ylim([0, 1.01])\n",
        "plt.legend(loc='lower right')\n",
        "plt.title('ROC Curve - SVM')\n",
        "plt.ylabel('True Positive Rate')\n",
        "plt.xlabel('False Positive Rate')\n",
        "\n",
        "plt.subplot(2,2,4)\n",
        "plt.plot(fpr_dnn, tpr_dnn, linewidth=5, label='AUC = %0.3f'% auc_dnn)\n",
        "plt.plot([0,1],[0,1], linewidth=5)\n",
        "plt.xlim([-0.01, 1])\n",
        "plt.ylim([0, 1.01])\n",
        "plt.legend(loc='lower right')\n",
        "plt.title('ROC Curve - DNN')\n",
        "plt.ylabel('True Positive Rate')\n",
        "plt.xlabel('False Positive Rate')\n",
        "plt.show()"
      ],
      "execution_count": 111,
      "outputs": [
        {
          "output_type": "display_data",
          "data": {
            "image/png": "[encoded data removed]",
            "text/plain": [
              "<Figure size 1080x1080 with 4 Axes>"
            ]
          },
          "metadata": {
            "tags": []
          }
        }
      ]
    },
    {
      "cell_type": "code",
      "metadata": {
        "id": "zyKZvZazrRqN",
        "colab_type": "code",
        "colab": {
          "base_uri": "https://localhost:8080/",
          "height": 206
        },
        "outputId": "93aa7d49-049c-4694-d476-3346b4b2ef17"
      },
      "source": [
        "# Based on ROC curve RandomForest is best suited as it has highest accuracy and area under curve.\n",
        "pred_RF = model_RF.predict(X_test)\n",
        "predictions = pd.Series(pred_RF,name=\"Survived\")\n",
        "\n",
        "passenger = titanic_test_df['PassengerId']\n",
        "\n",
        "final_df = pd.concat([passenger, predictions], axis=1)\n",
        "\n",
        "final_df.head()"
      ],
      "execution_count": 112,
      "outputs": [
        {
          "output_type": "execute_result",
          "data": {
            "text/html": [
              "<div>\n",
              "<style scoped>\n",
              "    .dataframe tbody tr th:only-of-type {\n",
              "        vertical-align: middle;\n",
              "    }\n",
              "\n",
              "    .dataframe tbody tr th {\n",
              "        vertical-align: top;\n",
              "    }\n",
              "\n",
              "    .dataframe thead th {\n",
              "        text-align: right;\n",
              "    }\n",
              "</style>\n",
              "<table border=\"1\" class=\"dataframe\">\n",
              "  <thead>\n",
              "    <tr style=\"text-align: right;\">\n",
              "      <th></th>\n",
              "      <th>PassengerId</th>\n",
              "      <th>Survived</th>\n",
              "    </tr>\n",
              "  </thead>\n",
              "  <tbody>\n",
              "    <tr>\n",
              "      <th>0</th>\n",
              "      <td>892</td>\n",
              "      <td>0</td>\n",
              "    </tr>\n",
              "    <tr>\n",
              "      <th>1</th>\n",
              "      <td>893</td>\n",
              "      <td>0</td>\n",
              "    </tr>\n",
              "    <tr>\n",
              "      <th>2</th>\n",
              "      <td>894</td>\n",
              "      <td>0</td>\n",
              "    </tr>\n",
              "    <tr>\n",
              "      <th>3</th>\n",
              "      <td>895</td>\n",
              "      <td>0</td>\n",
              "    </tr>\n",
              "    <tr>\n",
              "      <th>4</th>\n",
              "      <td>896</td>\n",
              "      <td>1</td>\n",
              "    </tr>\n",
              "  </tbody>\n",
              "</table>\n",
              "</div>"
            ],
            "text/plain": [
              "   PassengerId  Survived\n",
              "0          892         0\n",
              "1          893         0\n",
              "2          894         0\n",
              "3          895         0\n",
              "4          896         1"
            ]
          },
          "metadata": {
            "tags": []
          },
          "execution_count": 112
        }
      ]
    },
    {
      "cell_type": "code",
      "metadata": {
        "id": "2nYXFOq_mGpS",
        "colab_type": "code",
        "colab": {
          "base_uri": "https://localhost:8080/",
          "height": 35
        },
        "outputId": "8cf4c9d7-2ce4-492c-e4c9-aeb41b810f06"
      },
      "source": [
        "final_df['Survived'].sum()"
      ],
      "execution_count": 113,
      "outputs": [
        {
          "output_type": "execute_result",
          "data": {
            "text/plain": [
              "148"
            ]
          },
          "metadata": {
            "tags": []
          },
          "execution_count": 113
        }
      ]
    },
    {
      "cell_type": "code",
      "metadata": {
        "id": "y0bg0_picEP3",
        "colab_type": "code",
        "colab": {}
      },
      "source": [
        "final_df.to_csv(\"submission_final.csv\", index=False)"
      ],
      "execution_count": 0,
      "outputs": []
    },
    {
      "cell_type": "code",
      "metadata": {
        "id": "uqE78XHu68s7",
        "colab_type": "code",
        "colab": {}
      },
      "source": [
        "\n"
      ],
      "execution_count": 0,
      "outputs": []
    }
  ]
}